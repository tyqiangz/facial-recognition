{
 "cells": [
  {
   "cell_type": "code",
   "execution_count": 1,
   "metadata": {},
   "outputs": [],
   "source": [
    "import face_recognition"
   ]
  },
  {
   "cell_type": "code",
   "execution_count": 3,
   "metadata": {},
   "outputs": [
    {
     "name": "stdout",
     "output_type": "stream",
     "text": [
      "1 face(s) found in ../images/ariana_grande/ariana_grande_1.jpeg\n",
      "1 face(s) found in ../images/ariana_grande/ariana_grande_2.png\n"
     ]
    }
   ],
   "source": [
    "image_path_1 = '../images/ariana_grande/ariana_grande_1.jpeg'\n",
    "image_path_2 = '../images/ariana_grande/ariana_grande_2.png'\n",
    "\n",
    "image_1 = face_recognition.load_image_file(image_path_1)\n",
    "image_2 = face_recognition.load_image_file(image_path_2)\n",
    "\n",
    "# Get the face encodings for the images\n",
    "face_encoding_1 = face_recognition.face_encodings(image_1)\n",
    "face_encoding_2 = face_recognition.face_encodings(image_2)\n",
    "\n",
    "# calculate no. of faces found\n",
    "num_faces_1 = len(face_encoding_1)\n",
    "num_faces_2 = len(face_encoding_2)\n",
    "\n",
    "print(f\"{num_faces_1} face(s) found in {image_path_1}\")\n",
    "print(f\"{num_faces_2} face(s) found in {image_path_2}\")\n",
    "\n",
    "# if a single face is found in both images, then calculate similarity score\n",
    "if num_faces_1 == 1 and num_faces_2 == 1:\n",
    "    face_distances = face_recognition.face_distance([face_encoding_1[0]], face_encoding_2[0])"
   ]
  },
  {
   "cell_type": "code",
   "execution_count": 9,
   "metadata": {},
   "outputs": [
    {
     "ename": "TypeError",
     "evalue": "only size-1 arrays can be converted to Python scalars",
     "output_type": "error",
     "traceback": [
      "\u001b[1;31m---------------------------------------------------------------------------\u001b[0m",
      "\u001b[1;31mTypeError\u001b[0m                                 Traceback (most recent call last)",
      "\u001b[1;32m<ipython-input-9-ad7ad4720ec1>\u001b[0m in \u001b[0;36m<module>\u001b[1;34m\u001b[0m\n\u001b[0;32m      1\u001b[0m \u001b[1;32mimport\u001b[0m \u001b[0mnumpy\u001b[0m \u001b[1;32mas\u001b[0m \u001b[0mnp\u001b[0m\u001b[1;33m\u001b[0m\u001b[1;33m\u001b[0m\u001b[0m\n\u001b[1;32m----> 2\u001b[1;33m \u001b[0mfloat\u001b[0m\u001b[1;33m(\u001b[0m\u001b[0mnp\u001b[0m\u001b[1;33m.\u001b[0m\u001b[0marray\u001b[0m\u001b[1;33m(\u001b[0m\u001b[1;33m[\u001b[0m\u001b[1;36m0.434\u001b[0m\u001b[1;33m,\u001b[0m \u001b[1;36m0.1231\u001b[0m\u001b[1;33m]\u001b[0m\u001b[1;33m)\u001b[0m\u001b[1;33m)\u001b[0m\u001b[1;33m\u001b[0m\u001b[1;33m\u001b[0m\u001b[0m\n\u001b[0m",
      "\u001b[1;31mTypeError\u001b[0m: only size-1 arrays can be converted to Python scalars"
     ]
    }
   ],
   "source": [
    "import numpy as np\n",
    "float(np.array([0.434, 0.1231]))"
   ]
  }
 ],
 "metadata": {
  "kernelspec": {
   "display_name": "Python 3",
   "language": "python",
   "name": "python3"
  },
  "language_info": {
   "codemirror_mode": {
    "name": "ipython",
    "version": 3
   },
   "file_extension": ".py",
   "mimetype": "text/x-python",
   "name": "python",
   "nbconvert_exporter": "python",
   "pygments_lexer": "ipython3",
   "version": "3.8.5"
  }
 },
 "nbformat": 4,
 "nbformat_minor": 4
}
