{
 "cells": [
  {
   "cell_type": "code",
   "execution_count": 1,
   "id": "efc618b1",
   "metadata": {},
   "outputs": [],
   "source": [
    "!pip install deepface==0.0.72 -q"
   ]
  },
  {
   "cell_type": "code",
   "execution_count": null,
   "id": "19e6dc18",
   "metadata": {},
   "outputs": [],
   "source": [
    "from deepface import DeepFace\n",
    "models = ['VGG-Face', 'Facenet', 'OpenFace', 'DeepFace', \n",
    "          'DeepID', 'Dlib', 'ArcFace']\n",
    "metrics = ['cosine', 'euclidean', 'euclidean_l2']\n",
    "obj = DeepFace.verify(\"../images/joe_biden_1.jpg\", \"../images/joe_biden_2.jpg\",\n",
    "                      model_name = models[5], distance_metric = metrics[0])\n",
    "print(obj)"
   ]
  },
  {
   "cell_type": "code",
   "execution_count": null,
   "id": "936f098a",
   "metadata": {},
   "outputs": [],
   "source": []
  }
 ],
 "metadata": {
  "kernelspec": {
   "display_name": "Python 3",
   "language": "python",
   "name": "python3"
  },
  "language_info": {
   "codemirror_mode": {
    "name": "ipython",
    "version": 3
   },
   "file_extension": ".py",
   "mimetype": "text/x-python",
   "name": "python",
   "nbconvert_exporter": "python",
   "pygments_lexer": "ipython3",
   "version": "3.8.8"
  }
 },
 "nbformat": 4,
 "nbformat_minor": 5
}
